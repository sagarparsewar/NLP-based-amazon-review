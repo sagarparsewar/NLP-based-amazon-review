{
 "cells": [
  {
   "cell_type": "code",
   "execution_count": null,
   "id": "55a8ea11",
   "metadata": {},
   "outputs": [],
   "source": [
    "#######      !pip install gensim"
   ]
  },
  {
   "cell_type": "code",
   "execution_count": null,
   "id": "94536fa9",
   "metadata": {},
   "outputs": [],
   "source": [
    "import pandas as pd\n",
    "import numpy as np"
   ]
  },
  {
   "cell_type": "code",
   "execution_count": null,
   "id": "ed4b3614",
   "metadata": {},
   "outputs": [],
   "source": [
    "np.__version__"
   ]
  },
  {
   "cell_type": "markdown",
   "id": "9c6a788d",
   "metadata": {},
   "source": [
    "# Reading CSv file :"
   ]
  },
  {
   "cell_type": "code",
   "execution_count": null,
   "id": "1063a350",
   "metadata": {},
   "outputs": [],
   "source": [
    "df_reviews_ratings = pd.read_csv('PreProcessed_data.csv')\n",
    "df_reviews_ratings.head(5)"
   ]
  },
  {
   "cell_type": "markdown",
   "id": "3bbf74b8",
   "metadata": {},
   "source": [
    "### Removing null values if any :"
   ]
  },
  {
   "cell_type": "code",
   "execution_count": null,
   "id": "6489d69b",
   "metadata": {},
   "outputs": [],
   "source": [
    "df_reviews_ratings.isnull().sum()"
   ]
  },
  {
   "cell_type": "code",
   "execution_count": null,
   "id": "ef4294dd",
   "metadata": {},
   "outputs": [],
   "source": [
    "df_reviews_ratings=df_reviews_ratings.dropna()"
   ]
  },
  {
   "cell_type": "code",
   "execution_count": null,
   "id": "d17e6221",
   "metadata": {},
   "outputs": [],
   "source": [
    "df_reviews_ratings.isnull().sum()"
   ]
  },
  {
   "cell_type": "code",
   "execution_count": null,
   "id": "dbdad6d7",
   "metadata": {},
   "outputs": [],
   "source": [
    "df_reviews_ratings.reset_index()"
   ]
  },
  {
   "cell_type": "code",
   "execution_count": null,
   "id": "01e9b310",
   "metadata": {},
   "outputs": [],
   "source": [
    "df_reviews_ratings.Reviews=df_reviews_ratings.Reviews.astype(str)"
   ]
  },
  {
   "cell_type": "markdown",
   "id": "17abe747",
   "metadata": {},
   "source": [
    "# Modeling using Bert :  \n",
    "- Semisupervised model \n",
    "- 1.) Word Embedding : converts all the data into vectors { CountVectorizor }\n",
    "      { if there are documents  then all the words in each document are converted into seperate vectors .} \n",
    "- 2.) Dimentionality reduction is applied to represent them into clusters. { UMAP : Non linear dimentionality reduction where as PCA is a linear dimentionality reuction technique}\n",
    "- 3.)  Clusters are formed with different topics { HDBSCAN : similar to kmeans cluster}\n",
    "- 4.) Interpreting clusters: By using category based TF-IDF( term frequency–inverse document frequency) : Finding how important is each word to the cluster"
   ]
  },
  {
   "cell_type": "code",
   "execution_count": null,
   "id": "47d90426",
   "metadata": {},
   "outputs": [],
   "source": [
    "#######        !pip install bertopic"
   ]
  },
  {
   "cell_type": "code",
   "execution_count": null,
   "id": "c834d987",
   "metadata": {},
   "outputs": [],
   "source": [
    "#pip install numba --upgrade"
   ]
  },
  {
   "cell_type": "code",
   "execution_count": null,
   "id": "52ab6c52",
   "metadata": {},
   "outputs": [],
   "source": [
    "!pip install --upgrade numpy==1.10.1"
   ]
  },
  {
   "cell_type": "code",
   "execution_count": null,
   "id": "414ffe08",
   "metadata": {},
   "outputs": [],
   "source": [
    "import numpy as np\n",
    "import pandas as pd\n",
    "from copy import deepcopy\n",
    "from bertopic import BERTopic"
   ]
  },
  {
   "cell_type": "code",
   "execution_count": null,
   "id": "e0b7e7a1",
   "metadata": {},
   "outputs": [],
   "source": [
    "model = BERTopic(language=\"english\" , embedding_model='paraphrase-MiniLM-L3-v2' , calculate_probabilities = True )"
   ]
  },
  {
   "cell_type": "code",
   "execution_count": null,
   "id": "4e5f000f",
   "metadata": {},
   "outputs": [],
   "source": [
    "topics, probs = model.fit_transform(df_reviews_ratings.Reviews)"
   ]
  },
  {
   "cell_type": "code",
   "execution_count": null,
   "id": "4ac38d7d",
   "metadata": {},
   "outputs": [],
   "source": [
    "model.get_topic_freq()"
   ]
  },
  {
   "cell_type": "code",
   "execution_count": null,
   "id": "47ae24f4",
   "metadata": {},
   "outputs": [],
   "source": [
    "# -1 represents those words which are not included in any clusters : SO they are outliers"
   ]
  },
  {
   "cell_type": "code",
   "execution_count": null,
   "id": "1efc8ef0",
   "metadata": {},
   "outputs": [],
   "source": [
    "model.get_topic_info()"
   ]
  },
  {
   "cell_type": "code",
   "execution_count": null,
   "id": "1897bca4",
   "metadata": {},
   "outputs": [],
   "source": [
    "model.get_topic(0)"
   ]
  },
  {
   "cell_type": "code",
   "execution_count": null,
   "id": "7d8a65fe",
   "metadata": {},
   "outputs": [],
   "source": [
    "model.get_topic(2)"
   ]
  },
  {
   "cell_type": "code",
   "execution_count": null,
   "id": "5ffae022",
   "metadata": {},
   "outputs": [],
   "source": [
    "model.visualize_barchart()"
   ]
  },
  {
   "cell_type": "code",
   "execution_count": null,
   "id": "18f045c7",
   "metadata": {},
   "outputs": [],
   "source": []
  }
 ],
 "metadata": {
  "kernelspec": {
   "display_name": "Python 3 (ipykernel)",
   "language": "python",
   "name": "python3"
  },
  "language_info": {
   "codemirror_mode": {
    "name": "ipython",
    "version": 3
   },
   "file_extension": ".py",
   "mimetype": "text/x-python",
   "name": "python",
   "nbconvert_exporter": "python",
   "pygments_lexer": "ipython3",
   "version": "3.9.7"
  }
 },
 "nbformat": 4,
 "nbformat_minor": 5
}
