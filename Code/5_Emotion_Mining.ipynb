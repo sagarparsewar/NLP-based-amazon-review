{
 "cells": [
  {
   "cell_type": "markdown",
   "id": "d9f77140",
   "metadata": {},
   "source": [
    "# Emotion classification using NRC Lexicon"
   ]
  },
  {
   "cell_type": "markdown",
   "id": "0155705a",
   "metadata": {},
   "source": [
    "The package contains approximately 27,000 words and is based on the National Research Council Canada (NRC) affect lexicon and the NLTK library’s WordNet synonym sets."
   ]
  },
  {
   "cell_type": "markdown",
   "id": "95eb6f8b",
   "metadata": {},
   "source": [
    "fear,\n",
    "anger,\n",
    "anticipation,\n",
    "trust,\n",
    "surprise,\n",
    "positive,\n",
    "negative,\n",
    "sadness,\n",
    "disgust,\n",
    "joy"
   ]
  },
  {
   "cell_type": "code",
   "execution_count": 2,
   "id": "3fe1ebb7",
   "metadata": {},
   "outputs": [],
   "source": [
    "#!pip install NRCLex\n",
    "\n",
    "# python -m textblob.download_corpora ( for MissingCorpusError import textblob)"
   ]
  },
  {
   "cell_type": "code",
   "execution_count": 1,
   "id": "94d4503c",
   "metadata": {},
   "outputs": [
    {
     "name": "stderr",
     "output_type": "stream",
     "text": [
      "C:\\Users\\Mani\\anaconda3\\lib\\site-packages\\numpy\\_distributor_init.py:30: UserWarning: loaded more than 1 DLL from .libs:\n",
      "C:\\Users\\Mani\\anaconda3\\lib\\site-packages\\numpy\\.libs\\libopenblas.EL2C6PLE4ZYW3ECEVIV3OXXGRN2NRFM2.gfortran-win_amd64.dll\n",
      "C:\\Users\\Mani\\anaconda3\\lib\\site-packages\\numpy\\.libs\\libopenblas.GK7GX5KEQ4F6UYO3P26ULGBQYHGQO7J4.gfortran-win_amd64.dll\n",
      "  warnings.warn(\"loaded more than 1 DLL from .libs:\"\n",
      "<frozen importlib._bootstrap>:228: RuntimeWarning: scipy._lib.messagestream.MessageStream size changed, may indicate binary incompatibility. Expected 56 from C header, got 64 from PyObject\n"
     ]
    }
   ],
   "source": [
    "from nrclex import NRCLex\n",
    "import pandas as pd\n",
    "import numpy as np"
   ]
  },
  {
   "cell_type": "markdown",
   "id": "92f47a3b",
   "metadata": {},
   "source": [
    "# Reading CSV file :"
   ]
  },
  {
   "cell_type": "code",
   "execution_count": 2,
   "id": "d3954129",
   "metadata": {},
   "outputs": [
    {
     "data": {
      "text/html": [
       "<div>\n",
       "<style scoped>\n",
       "    .dataframe tbody tr th:only-of-type {\n",
       "        vertical-align: middle;\n",
       "    }\n",
       "\n",
       "    .dataframe tbody tr th {\n",
       "        vertical-align: top;\n",
       "    }\n",
       "\n",
       "    .dataframe thead th {\n",
       "        text-align: right;\n",
       "    }\n",
       "</style>\n",
       "<table border=\"1\" class=\"dataframe\">\n",
       "  <thead>\n",
       "    <tr style=\"text-align: right;\">\n",
       "      <th></th>\n",
       "      <th>Reviews</th>\n",
       "      <th>Ratings</th>\n",
       "      <th>Orig_Reviews</th>\n",
       "      <th>no_of_characters</th>\n",
       "      <th>no_of_words</th>\n",
       "      <th>avd_Word_Length</th>\n",
       "      <th>Polarity</th>\n",
       "      <th>Subjectivity</th>\n",
       "    </tr>\n",
       "  </thead>\n",
       "  <tbody>\n",
       "    <tr>\n",
       "      <th>0</th>\n",
       "      <td>horrible noise come washing spinning return ba...</td>\n",
       "      <td>1</td>\n",
       "      <td>Horrible noise coming while washing or spinnin...</td>\n",
       "      <td>712</td>\n",
       "      <td>116</td>\n",
       "      <td>5.129310</td>\n",
       "      <td>-0.069444</td>\n",
       "      <td>0.691667</td>\n",
       "    </tr>\n",
       "    <tr>\n",
       "      <th>1</th>\n",
       "      <td>make life easierwrite review month use wash ev...</td>\n",
       "      <td>5</td>\n",
       "      <td>It's made my life easier.Writing this review a...</td>\n",
       "      <td>1366</td>\n",
       "      <td>245</td>\n",
       "      <td>4.563265</td>\n",
       "      <td>0.096825</td>\n",
       "      <td>0.531746</td>\n",
       "    </tr>\n",
       "    <tr>\n",
       "      <th>2</th>\n",
       "      <td>would like share experience one onedelivery ex...</td>\n",
       "      <td>5</td>\n",
       "      <td>I would like to share my experience one by one...</td>\n",
       "      <td>2673</td>\n",
       "      <td>453</td>\n",
       "      <td>4.852097</td>\n",
       "      <td>0.229518</td>\n",
       "      <td>0.560618</td>\n",
       "    </tr>\n",
       "    <tr>\n",
       "      <th>3</th>\n",
       "      <td>medium could load washing machine got deliver ...</td>\n",
       "      <td>5</td>\n",
       "      <td>The media could not be loaded.\\n              ...</td>\n",
       "      <td>842</td>\n",
       "      <td>149</td>\n",
       "      <td>4.550336</td>\n",
       "      <td>0.300000</td>\n",
       "      <td>0.556667</td>\n",
       "    </tr>\n",
       "    <tr>\n",
       "      <th>4</th>\n",
       "      <td>medium could load defective product recievedth...</td>\n",
       "      <td>2</td>\n",
       "      <td>The media could not be loaded.\\n              ...</td>\n",
       "      <td>1369</td>\n",
       "      <td>227</td>\n",
       "      <td>4.933921</td>\n",
       "      <td>-0.154167</td>\n",
       "      <td>0.381859</td>\n",
       "    </tr>\n",
       "  </tbody>\n",
       "</table>\n",
       "</div>"
      ],
      "text/plain": [
       "                                             Reviews  Ratings  \\\n",
       "0  horrible noise come washing spinning return ba...        1   \n",
       "1  make life easierwrite review month use wash ev...        5   \n",
       "2  would like share experience one onedelivery ex...        5   \n",
       "3  medium could load washing machine got deliver ...        5   \n",
       "4  medium could load defective product recievedth...        2   \n",
       "\n",
       "                                        Orig_Reviews  no_of_characters  \\\n",
       "0  Horrible noise coming while washing or spinnin...               712   \n",
       "1  It's made my life easier.Writing this review a...              1366   \n",
       "2  I would like to share my experience one by one...              2673   \n",
       "3  The media could not be loaded.\\n              ...               842   \n",
       "4  The media could not be loaded.\\n              ...              1369   \n",
       "\n",
       "   no_of_words  avd_Word_Length  Polarity  Subjectivity  \n",
       "0          116         5.129310 -0.069444      0.691667  \n",
       "1          245         4.563265  0.096825      0.531746  \n",
       "2          453         4.852097  0.229518      0.560618  \n",
       "3          149         4.550336  0.300000      0.556667  \n",
       "4          227         4.933921 -0.154167      0.381859  "
      ]
     },
     "execution_count": 2,
     "metadata": {},
     "output_type": "execute_result"
    }
   ],
   "source": [
    "df_reviews_ratings = pd.read_csv('PreProcessed_data.csv')\n",
    "df_reviews_ratings.head(5)"
   ]
  },
  {
   "cell_type": "code",
   "execution_count": 3,
   "id": "b742fd87",
   "metadata": {},
   "outputs": [
    {
     "data": {
      "text/plain": [
       "Reviews             4\n",
       "Ratings             0\n",
       "Orig_Reviews        2\n",
       "no_of_characters    0\n",
       "no_of_words         0\n",
       "avd_Word_Length     2\n",
       "Polarity            0\n",
       "Subjectivity        0\n",
       "dtype: int64"
      ]
     },
     "execution_count": 3,
     "metadata": {},
     "output_type": "execute_result"
    }
   ],
   "source": [
    "df_reviews_ratings.isnull().sum()"
   ]
  },
  {
   "cell_type": "code",
   "execution_count": 4,
   "id": "4f94cd45",
   "metadata": {},
   "outputs": [],
   "source": [
    "df_reviews_ratings=df_reviews_ratings.dropna()"
   ]
  },
  {
   "cell_type": "code",
   "execution_count": 5,
   "id": "0db88d03",
   "metadata": {},
   "outputs": [],
   "source": [
    "df_reviews_ratings=df_reviews_ratings.reset_index()"
   ]
  },
  {
   "cell_type": "code",
   "execution_count": 6,
   "id": "e564e5fa",
   "metadata": {},
   "outputs": [],
   "source": [
    "corpus= []\n",
    "for i in range(0,len(df_reviews_ratings.Reviews)):\n",
    "    text = ''.join(df_reviews_ratings.Reviews[i])\n",
    "    corpus.append(text)"
   ]
  },
  {
   "cell_type": "code",
   "execution_count": null,
   "id": "9159c248",
   "metadata": {},
   "outputs": [],
   "source": []
  },
  {
   "cell_type": "code",
   "execution_count": 7,
   "id": "c19993f7",
   "metadata": {},
   "outputs": [
    {
     "name": "stdout",
     "output_type": "stream",
     "text": [
      "{'negative': 704, 'positive': 1678, 'anticipation': 937, 'trust': 1588, 'anger': 317, 'disgust': 202, 'fear': 204, 'sadness': 271, 'joy': 721, 'surprise': 471}\n"
     ]
    }
   ],
   "source": [
    "   # Create object\n",
    "emotion = NRCLex(str(corpus))\n",
    " \n",
    "# Classify emotion\n",
    "print(emotion.raw_emotion_scores)"
   ]
  },
  {
   "cell_type": "code",
   "execution_count": 18,
   "id": "c03d41af",
   "metadata": {},
   "outputs": [],
   "source": [
    "emotion_scores = pd.DataFrame(emotion.raw_emotion_scores , index=[0])"
   ]
  },
  {
   "cell_type": "code",
   "execution_count": 19,
   "id": "312c3ad8",
   "metadata": {},
   "outputs": [
    {
     "data": {
      "text/html": [
       "<div>\n",
       "<style scoped>\n",
       "    .dataframe tbody tr th:only-of-type {\n",
       "        vertical-align: middle;\n",
       "    }\n",
       "\n",
       "    .dataframe tbody tr th {\n",
       "        vertical-align: top;\n",
       "    }\n",
       "\n",
       "    .dataframe thead th {\n",
       "        text-align: right;\n",
       "    }\n",
       "</style>\n",
       "<table border=\"1\" class=\"dataframe\">\n",
       "  <thead>\n",
       "    <tr style=\"text-align: right;\">\n",
       "      <th></th>\n",
       "      <th>negative</th>\n",
       "      <th>positive</th>\n",
       "      <th>anticipation</th>\n",
       "      <th>trust</th>\n",
       "      <th>anger</th>\n",
       "      <th>disgust</th>\n",
       "      <th>fear</th>\n",
       "      <th>sadness</th>\n",
       "      <th>joy</th>\n",
       "      <th>surprise</th>\n",
       "    </tr>\n",
       "  </thead>\n",
       "  <tbody>\n",
       "    <tr>\n",
       "      <th>0</th>\n",
       "      <td>704</td>\n",
       "      <td>1678</td>\n",
       "      <td>937</td>\n",
       "      <td>1588</td>\n",
       "      <td>317</td>\n",
       "      <td>202</td>\n",
       "      <td>204</td>\n",
       "      <td>271</td>\n",
       "      <td>721</td>\n",
       "      <td>471</td>\n",
       "    </tr>\n",
       "  </tbody>\n",
       "</table>\n",
       "</div>"
      ],
      "text/plain": [
       "   negative  positive  anticipation  trust  anger  disgust  fear  sadness  \\\n",
       "0       704      1678           937   1588    317      202   204      271   \n",
       "\n",
       "   joy  surprise  \n",
       "0  721       471  "
      ]
     },
     "execution_count": 19,
     "metadata": {},
     "output_type": "execute_result"
    }
   ],
   "source": [
    "emotion_scores"
   ]
  },
  {
   "cell_type": "code",
   "execution_count": 26,
   "id": "26b433f4",
   "metadata": {},
   "outputs": [
    {
     "data": {
      "text/plain": [
       "<AxesSubplot:>"
      ]
     },
     "execution_count": 26,
     "metadata": {},
     "output_type": "execute_result"
    },
    {
     "data": {
      "image/png": "[encoded data removed]",
      "text/plain": [
       "<Figure size 432x288 with 1 Axes>"
      ]
     },
     "metadata": {
      "needs_background": "light"
     },
     "output_type": "display_data"
    }
   ],
   "source": [
    "sns.barplot(data = emotion_scores )"
   ]
  },
  {
   "cell_type": "code",
   "execution_count": 23,
   "id": "2bf71d1f",
   "metadata": {},
   "outputs": [
    {
     "data": {
      "text/html": [
       "<div>\n",
       "<style scoped>\n",
       "    .dataframe tbody tr th:only-of-type {\n",
       "        vertical-align: middle;\n",
       "    }\n",
       "\n",
       "    .dataframe tbody tr th {\n",
       "        vertical-align: top;\n",
       "    }\n",
       "\n",
       "    .dataframe thead th {\n",
       "        text-align: right;\n",
       "    }\n",
       "</style>\n",
       "<table border=\"1\" class=\"dataframe\">\n",
       "  <thead>\n",
       "    <tr style=\"text-align: right;\">\n",
       "      <th></th>\n",
       "      <th>negative</th>\n",
       "      <th>positive</th>\n",
       "      <th>anticipation</th>\n",
       "      <th>trust</th>\n",
       "      <th>anger</th>\n",
       "      <th>disgust</th>\n",
       "      <th>fear</th>\n",
       "      <th>sadness</th>\n",
       "      <th>joy</th>\n",
       "      <th>surprise</th>\n",
       "    </tr>\n",
       "  </thead>\n",
       "  <tbody>\n",
       "    <tr>\n",
       "      <th>0</th>\n",
       "      <td>704</td>\n",
       "      <td>1678</td>\n",
       "      <td>937</td>\n",
       "      <td>1588</td>\n",
       "      <td>317</td>\n",
       "      <td>202</td>\n",
       "      <td>204</td>\n",
       "      <td>271</td>\n",
       "      <td>721</td>\n",
       "      <td>471</td>\n",
       "    </tr>\n",
       "  </tbody>\n",
       "</table>\n",
       "</div>"
      ],
      "text/plain": [
       "   negative  positive  anticipation  trust  anger  disgust  fear  sadness  \\\n",
       "0       704      1678           937   1588    317      202   204      271   \n",
       "\n",
       "   joy  surprise  \n",
       "0  721       471  "
      ]
     },
     "execution_count": 23,
     "metadata": {},
     "output_type": "execute_result"
    }
   ],
   "source": [
    "emotion_scores[:1]"
   ]
  },
  {
   "cell_type": "code",
   "execution_count": 20,
   "id": "e0052378",
   "metadata": {},
   "outputs": [],
   "source": [
    "import seaborn as sns"
   ]
  },
  {
   "cell_type": "code",
   "execution_count": null,
   "id": "ceac1235",
   "metadata": {},
   "outputs": [],
   "source": []
  }
 ],
 "metadata": {
  "kernelspec": {
   "display_name": "Python 3 (ipykernel)",
   "language": "python",
   "name": "python3"
  },
  "language_info": {
   "codemirror_mode": {
    "name": "ipython",
    "version": 3
   },
   "file_extension": ".py",
   "mimetype": "text/x-python",
   "name": "python",
   "nbconvert_exporter": "python",
   "pygments_lexer": "ipython3",
   "version": "3.9.7"
  }
 },
 "nbformat": 4,
 "nbformat_minor": 5
}
